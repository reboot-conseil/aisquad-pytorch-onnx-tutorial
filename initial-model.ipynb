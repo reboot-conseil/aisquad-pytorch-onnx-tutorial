{
 "cells": [
  {
   "cell_type": "markdown",
   "metadata": {},
   "source": [
    "# Exporting a `fastai` model to ONNX format\n",
    "\n",
    "This notebook presents the general process of exporting a `fastai` model to ONNX format. The model is trained on the MNIST dataset."
   ]
  },
  {
   "cell_type": "code",
   "execution_count": 9,
   "metadata": {},
   "outputs": [],
   "source": [
    "# get necessary libraries\n",
    "import fastbook\n",
    "fastbook.setup_book()\n",
    "\n",
    "from fastbook import *\n",
    "from fastai.imports import *\n",
    "from fastai.vision.all import *\n",
    "from fastai.vision.utils import *\n",
    "from fastai.vision.widgets import *\n",
    "from fastcore.all import *\n",
    "\n",
    "import numpy as np\n",
    "\n",
    "import onnx\n",
    "import onnxruntime as ort\n",
    "\n",
    "import torchvision.transforms as T"
   ]
  },
  {
   "cell_type": "code",
   "execution_count": 10,
   "metadata": {},
   "outputs": [
    {
     "data": {
      "text/plain": [
       "(#2) [Path('/home/yactouat/.fastai/data/mnist_png/testing'),Path('/home/yactouat/.fastai/data/mnist_png/training')]"
      ]
     },
     "execution_count": 10,
     "metadata": {},
     "output_type": "execute_result"
    }
   ],
   "source": [
    "# get MNIST dataset using `fastai` helpers\n",
    "path = untar_data(URLs.MNIST)\n",
    "path.ls()"
   ]
  },
  {
   "cell_type": "markdown",
   "metadata": {},
   "source": [
    "## Train a first iteration of a `torch` pre trained model on the MNIST dataset"
   ]
  },
  {
   "cell_type": "code",
   "execution_count": 11,
   "metadata": {},
   "outputs": [],
   "source": [
    "mnist_train_digits_path = Path(path.ls()[1])"
   ]
  },
  {
   "cell_type": "markdown",
   "metadata": {},
   "source": [
    "We'll use `fastai` data loaders to load the MNIST dataset. Data loaders play a crucial role as they:\n",
    "\n",
    "- load the data into the model in batches\n",
    "- apply transformations to the data\n",
    "- split the data into training and validation sets\n",
    "- shuffle the data"
   ]
  },
  {
   "cell_type": "code",
   "execution_count": 12,
   "metadata": {},
   "outputs": [
    {
     "data": {
      "image/png": "[encoded data removed]",
      "text/plain": [
       "<Figure size 900x900 with 9 Axes>"
      ]
     },
     "metadata": {},
     "output_type": "display_data"
    }
   ],
   "source": [
    "# creating a `fastai` data loader,\n",
    "# this will create random batches of data for training and validation\n",
    "mnist_data_block = DataBlock(\n",
    "    blocks=(ImageBlock, CategoryBlock),\n",
    "    get_items=get_image_files,\n",
    "    # this says that the parent folder name of the image will be its label\n",
    "    get_y=parent_label,\n",
    "    splitter=RandomSplitter(valid_pct=0.2)\n",
    ")\n",
    "\n",
    "# the data loader will feed the images to the model in batches of 64,\n",
    "# specifying the number of workers to 4 will allow to parallelize the loading of the images\n",
    "mnist_data_loader = mnist_data_block.dataloaders(mnist_train_digits_path, bs=64, num_workers=4)\n",
    "mnist_data_loader.show_batch(max_n=9)\n",
    "\n",
    "# ! althuough you can't see it here, images undergo some transformations as pre processing steps (this will have its importance later on, when we will try to convert the model to ONNX format)"
   ]
  },
  {
   "cell_type": "code",
   "execution_count": 13,
   "metadata": {},
   "outputs": [
    {
     "data": {
      "text/plain": [
       "(['0', '1', '2', '3', '4', '5', '6', '7', '8', '9'],\n",
       " (#10) [Path('/home/yactouat/.fastai/data/mnist_png/training/6'),Path('/home/yactouat/.fastai/data/mnist_png/training/4'),Path('/home/yactouat/.fastai/data/mnist_png/training/9'),Path('/home/yactouat/.fastai/data/mnist_png/training/7'),Path('/home/yactouat/.fastai/data/mnist_png/training/3'),Path('/home/yactouat/.fastai/data/mnist_png/training/5'),Path('/home/yactouat/.fastai/data/mnist_png/training/8'),Path('/home/yactouat/.fastai/data/mnist_png/training/2'),Path('/home/yactouat/.fastai/data/mnist_png/training/1'),Path('/home/yactouat/.fastai/data/mnist_png/training/0')])"
      ]
     },
     "execution_count": 13,
     "metadata": {},
     "output_type": "execute_result"
    }
   ],
   "source": [
    "# checking if the data loader categories (labels) are correct\n",
    "mnist_data_loader.vocab, mnist_train_digits_path.ls()"
   ]
  },
  {
   "cell_type": "code",
   "execution_count": 14,
   "metadata": {},
   "outputs": [
    {
     "data": {
      "image/png": "[encoded data removed]",
      "text/plain": [
       "<Figure size 1200x300 with 4 Axes>"
      ]
     },
     "metadata": {},
     "output_type": "display_data"
    }
   ],
   "source": [
    "# let's see what we have in our validation set\n",
    "mnist_data_loader.valid.show_batch(max_n=4, nrows=1)"
   ]
  },
  {
   "cell_type": "code",
   "execution_count": 15,
   "metadata": {},
   "outputs": [
    {
     "data": {
      "text/html": [
       "\n",
       "<style>\n",
       "    /* Turns off some styling */\n",
       "    progress {\n",
       "        /* gets rid of default border in Firefox and Opera. */\n",
       "        border: none;\n",
       "        /* Needs to be in here for Safari polyfill so background images work as expected. */\n",
       "        background-size: auto;\n",
       "    }\n",
       "    progress:not([value]), progress:not([value])::-webkit-progress-bar {\n",
       "        background: repeating-linear-gradient(45deg, #7e7e7e, #7e7e7e 10px, #5c5c5c 10px, #5c5c5c 20px);\n",
       "    }\n",
       "    .progress-bar-interrupted, .progress-bar-interrupted::-webkit-progress-bar {\n",
       "        background: #F44336;\n",
       "    }\n",
       "</style>\n"
      ],
      "text/plain": [
       "<IPython.core.display.HTML object>"
      ]
     },
     "metadata": {},
     "output_type": "display_data"
    },
    {
     "data": {
      "text/html": [
       "<table border=\"1\" class=\"dataframe\">\n",
       "  <thead>\n",
       "    <tr style=\"text-align: left;\">\n",
       "      <th>epoch</th>\n",
       "      <th>train_loss</th>\n",
       "      <th>valid_loss</th>\n",
       "      <th>accuracy</th>\n",
       "      <th>time</th>\n",
       "    </tr>\n",
       "  </thead>\n",
       "  <tbody>\n",
       "    <tr>\n",
       "      <td>0</td>\n",
       "      <td>0.764358</td>\n",
       "      <td>0.547821</td>\n",
       "      <td>0.825667</td>\n",
       "      <td>00:29</td>\n",
       "    </tr>\n",
       "  </tbody>\n",
       "</table>"
      ],
      "text/plain": [
       "<IPython.core.display.HTML object>"
      ]
     },
     "metadata": {},
     "output_type": "display_data"
    },
    {
     "data": {
      "text/html": [
       "\n",
       "<style>\n",
       "    /* Turns off some styling */\n",
       "    progress {\n",
       "        /* gets rid of default border in Firefox and Opera. */\n",
       "        border: none;\n",
       "        /* Needs to be in here for Safari polyfill so background images work as expected. */\n",
       "        background-size: auto;\n",
       "    }\n",
       "    progress:not([value]), progress:not([value])::-webkit-progress-bar {\n",
       "        background: repeating-linear-gradient(45deg, #7e7e7e, #7e7e7e 10px, #5c5c5c 10px, #5c5c5c 20px);\n",
       "    }\n",
       "    .progress-bar-interrupted, .progress-bar-interrupted::-webkit-progress-bar {\n",
       "        background: #F44336;\n",
       "    }\n",
       "</style>\n"
      ],
      "text/plain": [
       "<IPython.core.display.HTML object>"
      ]
     },
     "metadata": {},
     "output_type": "display_data"
    },
    {
     "data": {
      "text/html": [
       "<table border=\"1\" class=\"dataframe\">\n",
       "  <thead>\n",
       "    <tr style=\"text-align: left;\">\n",
       "      <th>epoch</th>\n",
       "      <th>train_loss</th>\n",
       "      <th>valid_loss</th>\n",
       "      <th>accuracy</th>\n",
       "      <th>time</th>\n",
       "    </tr>\n",
       "  </thead>\n",
       "  <tbody>\n",
       "    <tr>\n",
       "      <td>0</td>\n",
       "      <td>0.117947</td>\n",
       "      <td>0.072039</td>\n",
       "      <td>0.978083</td>\n",
       "      <td>01:04</td>\n",
       "    </tr>\n",
       "  </tbody>\n",
       "</table>"
      ],
      "text/plain": [
       "<IPython.core.display.HTML object>"
      ]
     },
     "metadata": {},
     "output_type": "display_data"
    }
   ],
   "source": [
    "# training the model, go get a coffee as this will take a short while\n",
    "mnist_learner = vision_learner(mnist_data_loader, resnet18, metrics=accuracy)\n",
    "mnist_learner.fine_tune(1)"
   ]
  },
  {
   "cell_type": "code",
   "execution_count": 16,
   "metadata": {},
   "outputs": [
    {
     "name": "stdout",
     "output_type": "stream",
     "text": [
      "Pipeline: ToTensor\n"
     ]
    }
   ],
   "source": [
    "# these were the transformations that were applied to the images at itemlevel when the model was trained\n",
    "print(mnist_data_loader.after_item)\n",
    "\n",
    "# the ouput basically says that each `PIL` image from the dataset has been turned into a tensor,\n",
    "# in this case it's an int tensor"
   ]
  },
  {
   "cell_type": "code",
   "execution_count": 17,
   "metadata": {},
   "outputs": [
    {
     "name": "stdout",
     "output_type": "stream",
     "text": [
      "Pipeline: IntToFloatTensor -- {'div': 255.0, 'div_mask': 1} -> Normalize -- {'mean': tensor([[[[0.4850]],\n",
      "\n",
      "         [[0.4560]],\n",
      "\n",
      "         [[0.4060]]]]), 'std': tensor([[[[0.2290]],\n",
      "\n",
      "         [[0.2240]],\n",
      "\n",
      "         [[0.2250]]]]), 'axes': (0, 2, 3)}\n"
     ]
    }
   ],
   "source": [
    "# these were the transformations that were applied to the images at batch level when the model was trained\n",
    "print(mnist_data_loader.after_batch)"
   ]
  },
  {
   "cell_type": "markdown",
   "metadata": {},
   "source": [
    "As you can see from the previous output, several things are happening here:\n",
    "\n",
    "- 1st transformation: the int tensor is converted to a float tensor, models work better with floating point numbers as they can represent a wider range of values\n",
    "- 1st transformation: values in the float tensor are divided by `255.0` to get values between 0 and 1 (normalization), this speeds up the training process\n",
    "- 2nd transformation: the images are normalized again using the _mean_ and _standard deviation_ of the MNIST dataset: `'axes': (0, 2, 3)` means we are calculating the mean and standard deviation for each channel across all images and pixels in those channels; this is why you're not seeing the channel axis here; standard deviation is a measure of how dispersed the set of values is "
   ]
  },
  {
   "cell_type": "code",
   "execution_count": 18,
   "metadata": {},
   "outputs": [],
   "source": [
    "# export the learner\n",
    "mnist_learner.export('exported/mnist_model.pkl')"
   ]
  },
  {
   "cell_type": "markdown",
   "metadata": {},
   "source": [
    "## Prepare the model for export to ONNX format"
   ]
  },
  {
   "cell_type": "code",
   "execution_count": 19,
   "metadata": {},
   "outputs": [],
   "source": [
    "# reloading the learner to avoid running the whole notebook again\n",
    "learner = load_learner('exported/mnist_model.pkl')"
   ]
  },
  {
   "cell_type": "code",
   "execution_count": 20,
   "metadata": {},
   "outputs": [
    {
     "name": "stderr",
     "output_type": "stream",
     "text": [
      "/home/yactouat/.local/lib/python3.10/site-packages/fastai/torch_core.py:263: UserWarning: 'has_mps' is deprecated, please use 'torch.backends.mps.is_built()'\n",
      "  return getattr(torch, 'has_mps', False)\n"
     ]
    },
    {
     "data": {
      "text/html": [
       "\n",
       "<style>\n",
       "    /* Turns off some styling */\n",
       "    progress {\n",
       "        /* gets rid of default border in Firefox and Opera. */\n",
       "        border: none;\n",
       "        /* Needs to be in here for Safari polyfill so background images work as expected. */\n",
       "        background-size: auto;\n",
       "    }\n",
       "    progress:not([value]), progress:not([value])::-webkit-progress-bar {\n",
       "        background: repeating-linear-gradient(45deg, #7e7e7e, #7e7e7e 10px, #5c5c5c 10px, #5c5c5c 20px);\n",
       "    }\n",
       "    .progress-bar-interrupted, .progress-bar-interrupted::-webkit-progress-bar {\n",
       "        background: #F44336;\n",
       "    }\n",
       "</style>\n"
      ],
      "text/plain": [
       "<IPython.core.display.HTML object>"
      ]
     },
     "metadata": {},
     "output_type": "display_data"
    },
    {
     "data": {
      "text/html": [],
      "text/plain": [
       "<IPython.core.display.HTML object>"
      ]
     },
     "metadata": {},
     "output_type": "display_data"
    },
    {
     "data": {
      "text/plain": [
       "('6',\n",
       " tensor([4.3384e-06, 3.0350e-07, 1.9222e-07, 1.2707e-06, 2.3954e-06, 7.9939e-06, 9.9998e-01, 1.8076e-06, 1.3238e-06, 3.2146e-08]))"
      ]
     },
     "execution_count": 20,
     "metadata": {},
     "output_type": "execute_result"
    }
   ],
   "source": [
    "# check that our exported model can read image matrices as inputs\n",
    "test_img = PILImage.create('example_mnist_6_digit.png')\n",
    "\n",
    "preds, _, probs = learner.predict(test_img)\n",
    "\n",
    "preds, probs"
   ]
  },
  {
   "cell_type": "code",
   "execution_count": 21,
   "metadata": {},
   "outputs": [
    {
     "data": {
      "text/plain": [
       "((28, 28), ('R', 'G', 'B'), torch.Size([28, 28, 3]))"
      ]
     },
     "execution_count": 21,
     "metadata": {},
     "output_type": "execute_result"
    }
   ],
   "source": [
    "# checking what the expected input looks like\n",
    "test_img.shape, test_img.getbands(), tensor(test_img).shape"
   ]
  },
  {
   "cell_type": "code",
   "execution_count": 22,
   "metadata": {},
   "outputs": [
    {
     "data": {
      "text/plain": [
       "torch.Size([1, 3, 28, 28])"
      ]
     },
     "execution_count": 22,
     "metadata": {},
     "output_type": "execute_result"
    }
   ],
   "source": [
    "# we need to create a fake input to be able to export the model,\n",
    "# it is, in our case in the form  => (batch_size, channels, height, width);\n",
    "dummy_input = torch.randn(1, 3, 28, 28)\n",
    "\n",
    "dummy_input.shape"
   ]
  },
  {
   "cell_type": "code",
   "execution_count": 23,
   "metadata": {},
   "outputs": [],
   "source": [
    "# reloading the model's data loader (necessary for the export to work)\n",
    "learner.dls = mnist_data_loader"
   ]
  },
  {
   "cell_type": "code",
   "execution_count": 24,
   "metadata": {},
   "outputs": [],
   "source": [
    "# getting the underlying pytorch model\n",
    "pytorch_model = learner.model"
   ]
  },
  {
   "cell_type": "markdown",
   "metadata": {},
   "source": [
    "## Export the model in ONNX format\n",
    "\n",
    "PyTorch models are exportable in ONNX format, so the first thing to do is to get the underlying PyTorch model from the `fastai` learner."
   ]
  },
  {
   "cell_type": "code",
   "execution_count": 25,
   "metadata": {},
   "outputs": [],
   "source": [
    "# setting the model to evaluation mode,\n",
    "# this means that some normalization and dropout layers will be disabled to ensure a more deterministic behavior\n",
    "pytorch_model.eval()\n",
    "\n",
    "# specify input and output names of the exported model\n",
    "input_names = [\"input_image\"]\n",
    "output_names = [\"digit_prediction\"]\n",
    "\n",
    "# ! choose either MNIST or business model\n",
    "torch.onnx.export(\n",
    "\n",
    "    # moving the model to CPU,\n",
    "    # this ensures that the consuming machine will run inference on the CPU (better portability)\n",
    "    pytorch_model.cpu(),\n",
    "\n",
    "    dummy_input.cpu(), \n",
    "    \n",
    "    'exported/mnist_model.onnx',\n",
    "\n",
    "    # compiler optimizations\n",
    "    do_constant_folding=True,\n",
    "\n",
    "    # store the trained parameter weights inside the model file         \n",
    "    export_params=True,\n",
    "\n",
    "    input_names=input_names,\n",
    "    output_names=output_names,\n",
    "\n",
    "    # indicate which axes of the input and output tensors should be treated as dynamic;\n",
    "    # here, specifying `{0: \"batch_size\"}` for I/O indicates that we will be able to run mass inference with the exported model \n",
    "    dynamic_axes={\n",
    "        'input_image': {0: 'batch_size'},\n",
    "        'digit_prediction': {0: \"batch_size\"}\n",
    "    }\n",
    ")"
   ]
  },
  {
   "cell_type": "markdown",
   "metadata": {},
   "source": [
    "## Validating that our ONNX exports works as expected using Python"
   ]
  },
  {
   "cell_type": "code",
   "execution_count": 26,
   "metadata": {},
   "outputs": [
    {
     "name": "stdout",
     "output_type": "stream",
     "text": [
      "The model is valid!\n"
     ]
    }
   ],
   "source": [
    "model = onnx.load(\"exported/mnist_model.onnx\")\n",
    "try:\n",
    "    onnx.checker.check_model(model)\n",
    "    print(\"The model is valid!\")\n",
    "except onnx.checker.ValidationError as e:\n",
    "    print(f\"The model is invalid: {e}\")\n",
    "except Exception as e:\n",
    "    print(f\"An error occurred: {e}\")"
   ]
  },
  {
   "cell_type": "code",
   "execution_count": 29,
   "metadata": {},
   "outputs": [],
   "source": [
    "# using the same pre processing steps as in the `fastai` data loader\n",
    "def preprocess_image(image_path):\n",
    "    image = Image.open(image_path).convert('RGB')\n",
    "    image = image.resize((28, 28))\n",
    "    image_data = np.array(image).astype(np.float32)\n",
    "    image_data = image_data.transpose((2, 0, 1))\n",
    "    image_data[0] = (image_data[0] / 255.0 - 0.485) / 0.229\n",
    "    image_data[1] = (image_data[1] / 255.0 - 0.456) / 0.224\n",
    "    image_data[2] = (image_data[2] / 255.0 - 0.406) / 0.225\n",
    "    image_data = np.expand_dims(image_data, axis=0)\n",
    "    return image_data"
   ]
  },
  {
   "cell_type": "code",
   "execution_count": 33,
   "metadata": {},
   "outputs": [
    {
     "data": {
      "text/plain": [
       "(1, 3, 28, 28)"
      ]
     },
     "execution_count": 33,
     "metadata": {},
     "output_type": "execute_result"
    }
   ],
   "source": [
    "session = ort.InferenceSession(\"exported/mnist_model.onnx\")\n",
    "\n",
    "input_data = preprocess_image('example_mnist_6_digit.png')\n",
    "\n",
    "input_data.shape"
   ]
  },
  {
   "cell_type": "code",
   "execution_count": 32,
   "metadata": {},
   "outputs": [
    {
     "name": "stdout",
     "output_type": "stream",
     "text": [
      "Predicted Digit: [6]\n"
     ]
    }
   ],
   "source": [
    "inputs = {session.get_inputs()[0].name: input_data}\n",
    "outputs = session.run(None, inputs)\n",
    "digit_prediction = outputs[0]\n",
    "predicted_digit = np.argmax(digit_prediction, axis=1)\n",
    "print(\"Predicted Digit:\", predicted_digit)"
   ]
  },
  {
   "cell_type": "markdown",
   "metadata": {},
   "source": [
    "Now all we have to do is to test how to read this on C# side. \n",
    "\n",
    "It will be necessary to compare the performance of the original model with the exported model to see if there is any discrepancy between the two."
   ]
  }
 ],
 "metadata": {
  "kernelspec": {
   "display_name": "Python 3",
   "language": "python",
   "name": "python3"
  },
  "language_info": {
   "codemirror_mode": {
    "name": "ipython",
    "version": 3
   },
   "file_extension": ".py",
   "mimetype": "text/x-python",
   "name": "python",
   "nbconvert_exporter": "python",
   "pygments_lexer": "ipython3",
   "version": "3.10.12"
  }
 },
 "nbformat": 4,
 "nbformat_minor": 2
}
